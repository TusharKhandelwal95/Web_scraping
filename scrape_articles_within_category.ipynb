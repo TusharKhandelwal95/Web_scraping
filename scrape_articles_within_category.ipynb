{
  "nbformat": 4,
  "nbformat_minor": 0,
  "metadata": {
    "colab": {
      "provenance": [],
      "authorship_tag": "ABX9TyMIXATD7dmz5yOmEwXQgDXn"
    },
    "kernelspec": {
      "name": "python3",
      "display_name": "Python 3"
    },
    "language_info": {
      "name": "python"
    }
  },
  "cells": [
    {
      "cell_type": "code",
      "source": [
        "import requests\n",
        "import pandas as pd\n",
        "from bs4 import BeautifulSoup"
      ],
      "metadata": {
        "id": "3BU1p4ce4J3S"
      },
      "execution_count": 9,
      "outputs": []
    },
    {
      "cell_type": "code",
      "source": [
        "base_url = 'https://gov.optimism.io'\n",
        "req = requests.get(base_url)\n",
        "\n",
        "soup = BeautifulSoup(req.content, 'html.parser')"
      ],
      "metadata": {
        "id": "GaXYW3gN6wyX"
      },
      "execution_count": 10,
      "outputs": []
    },
    {
      "cell_type": "code",
      "source": [
        "categories = []\n",
        "links = []\n",
        "descriptions = []\n",
        "\n",
        "sub_categories = []\n",
        "sub_links = []\n",
        "associated_categories = []"
      ],
      "metadata": {
        "id": "kSUtAvZ38EOA"
      },
      "execution_count": 11,
      "outputs": []
    },
    {
      "cell_type": "code",
      "source": [
        "# Step 1: Extracting main categories, links, and descriptions\n",
        "rows = soup.select('tbody > tr')\n",
        "\n",
        "for row in rows:\n",
        "    category_div = row.find('td', class_='category').find('div', itemprop='itemListElement')\n",
        "\n",
        "    if category_div:\n",
        "\n",
        "        heading_tag = category_div.find('h3').find('span', itemprop='name')\n",
        "        if heading_tag:\n",
        "            category_text = heading_tag.text.strip()\n",
        "            categories.append(category_text)\n",
        "\n",
        "        link_tag = category_div.find('meta', itemprop='url')\n",
        "        if link_tag:\n",
        "            category_link = link_tag['content']\n",
        "            links.append(base_url + category_link)\n",
        "\n",
        "        description_tag = category_div.find('div', itemprop='description')\n",
        "        description_text = description_tag.text.strip() if description_tag else 'No description available'\n",
        "        descriptions.append(description_text)\n",
        "\n",
        "# Step 2: Visiting each main link to extract subcategories\n",
        "        sub_response = requests.get(base_url + category_link)\n",
        "        sub_soup = BeautifulSoup(sub_response.content, 'html.parser')\n",
        "\n",
        "        subcategories = sub_soup.select('td.main-link a.title')\n",
        "        if subcategories:\n",
        "            for subcategory in subcategories:\n",
        "                subcategory_name = subcategory.text.strip()\n",
        "                subcategory_link = subcategory['href']\n",
        "\n",
        "                sub_categories.append(subcategory_name)\n",
        "                sub_links.append(subcategory_link)\n",
        "                associated_categories.append(category_text)\n"
      ],
      "metadata": {
        "id": "tLQwtOHL8ERo"
      },
      "execution_count": 12,
      "outputs": []
    },
    {
      "cell_type": "code",
      "source": [
        "main_data = {\n",
        "    'Main Category': categories,\n",
        "    'Link': links,\n",
        "    'Description': descriptions\n",
        "}\n",
        "\n",
        "sub_data = {\n",
        "    'Subcategory': sub_categories,\n",
        "    'Subcategory Link': sub_links,\n",
        "    'Main Category': associated_categories\n",
        "}"
      ],
      "metadata": {
        "id": "QtKwU7nr8EUl"
      },
      "execution_count": 13,
      "outputs": []
    },
    {
      "cell_type": "code",
      "source": [
        "main_df = pd.DataFrame(main_data)\n",
        "main_df.to_csv('main_categories.csv', index=False)\n",
        "\n",
        "sub_df = pd.DataFrame(sub_data)\n",
        "sub_df.to_csv('subcategories.csv', index=False)\n",
        "\n",
        "print(\"Data has been saved to 'main_categories.csv' and 'subcategories.csv'.\")"
      ],
      "metadata": {
        "colab": {
          "base_uri": "https://localhost:8080/"
        },
        "id": "ZKQWThDG8EX2",
        "outputId": "c6a0b1e6-77d4-42f1-bd87-a30688174200"
      },
      "execution_count": 14,
      "outputs": [
        {
          "output_type": "stream",
          "name": "stdout",
          "text": [
            "Data has been saved to 'main_categories.csv' and 'subcategories.csv'.\n"
          ]
        }
      ]
    },
    {
      "cell_type": "code",
      "source": [
        "from google.colab import files\n",
        "\n",
        "files.download(\"main_categories.csv\")\n",
        "files.download(\"subcategories.csv\")"
      ],
      "metadata": {
        "colab": {
          "base_uri": "https://localhost:8080/",
          "height": 17
        },
        "id": "PqurhTI78EbR",
        "outputId": "af1e614b-213d-48a7-8dde-eb06b0ed8bd6"
      },
      "execution_count": 15,
      "outputs": [
        {
          "output_type": "display_data",
          "data": {
            "text/plain": [
              "<IPython.core.display.Javascript object>"
            ],
            "application/javascript": [
              "\n",
              "    async function download(id, filename, size) {\n",
              "      if (!google.colab.kernel.accessAllowed) {\n",
              "        return;\n",
              "      }\n",
              "      const div = document.createElement('div');\n",
              "      const label = document.createElement('label');\n",
              "      label.textContent = `Downloading \"${filename}\": `;\n",
              "      div.appendChild(label);\n",
              "      const progress = document.createElement('progress');\n",
              "      progress.max = size;\n",
              "      div.appendChild(progress);\n",
              "      document.body.appendChild(div);\n",
              "\n",
              "      const buffers = [];\n",
              "      let downloaded = 0;\n",
              "\n",
              "      const channel = await google.colab.kernel.comms.open(id);\n",
              "      // Send a message to notify the kernel that we're ready.\n",
              "      channel.send({})\n",
              "\n",
              "      for await (const message of channel.messages) {\n",
              "        // Send a message to notify the kernel that we're ready.\n",
              "        channel.send({})\n",
              "        if (message.buffers) {\n",
              "          for (const buffer of message.buffers) {\n",
              "            buffers.push(buffer);\n",
              "            downloaded += buffer.byteLength;\n",
              "            progress.value = downloaded;\n",
              "          }\n",
              "        }\n",
              "      }\n",
              "      const blob = new Blob(buffers, {type: 'application/binary'});\n",
              "      const a = document.createElement('a');\n",
              "      a.href = window.URL.createObjectURL(blob);\n",
              "      a.download = filename;\n",
              "      div.appendChild(a);\n",
              "      a.click();\n",
              "      div.remove();\n",
              "    }\n",
              "  "
            ]
          },
          "metadata": {}
        },
        {
          "output_type": "display_data",
          "data": {
            "text/plain": [
              "<IPython.core.display.Javascript object>"
            ],
            "application/javascript": [
              "download(\"download_1465150a-df56-4aff-9051-123c749aa458\", \"main_categories.csv\", 1905)"
            ]
          },
          "metadata": {}
        },
        {
          "output_type": "display_data",
          "data": {
            "text/plain": [
              "<IPython.core.display.Javascript object>"
            ],
            "application/javascript": [
              "\n",
              "    async function download(id, filename, size) {\n",
              "      if (!google.colab.kernel.accessAllowed) {\n",
              "        return;\n",
              "      }\n",
              "      const div = document.createElement('div');\n",
              "      const label = document.createElement('label');\n",
              "      label.textContent = `Downloading \"${filename}\": `;\n",
              "      div.appendChild(label);\n",
              "      const progress = document.createElement('progress');\n",
              "      progress.max = size;\n",
              "      div.appendChild(progress);\n",
              "      document.body.appendChild(div);\n",
              "\n",
              "      const buffers = [];\n",
              "      let downloaded = 0;\n",
              "\n",
              "      const channel = await google.colab.kernel.comms.open(id);\n",
              "      // Send a message to notify the kernel that we're ready.\n",
              "      channel.send({})\n",
              "\n",
              "      for await (const message of channel.messages) {\n",
              "        // Send a message to notify the kernel that we're ready.\n",
              "        channel.send({})\n",
              "        if (message.buffers) {\n",
              "          for (const buffer of message.buffers) {\n",
              "            buffers.push(buffer);\n",
              "            downloaded += buffer.byteLength;\n",
              "            progress.value = downloaded;\n",
              "          }\n",
              "        }\n",
              "      }\n",
              "      const blob = new Blob(buffers, {type: 'application/binary'});\n",
              "      const a = document.createElement('a');\n",
              "      a.href = window.URL.createObjectURL(blob);\n",
              "      a.download = filename;\n",
              "      div.appendChild(a);\n",
              "      a.click();\n",
              "      div.remove();\n",
              "    }\n",
              "  "
            ]
          },
          "metadata": {}
        },
        {
          "output_type": "display_data",
          "data": {
            "text/plain": [
              "<IPython.core.display.Javascript object>"
            ],
            "application/javascript": [
              "download(\"download_791c0091-7d10-4770-a296-cfb1b2ff7ac7\", \"subcategories.csv\", 51771)"
            ]
          },
          "metadata": {}
        }
      ]
    }
  ]
}